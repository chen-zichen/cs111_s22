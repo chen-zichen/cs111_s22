{
 "cells": [
  {
   "cell_type": "markdown",
   "metadata": {},
   "source": [
    "## Answer"
   ]
  },
  {
   "cell_type": "markdown",
   "metadata": {},
   "source": [
    "1. Determinant of \n",
    "   \n",
    "   [[1, 0], [1, 2]]\n",
    "2. Matrix and vector norm \n",
    "   \n",
    "   [1, 5, 6, 3], [[1,2],[3,4]]\n",
    "3. Eigenvalue & Eigenvector\n",
    "\n",
    "   [[3, -2],[1, 0]]\n",
    "4. Lower-triangular L in the Cholesky decomposition\n",
    "\n",
    "   [[4, 12, -16], [12, 37, -53], [-16, -53, 98]]"
   ]
  },
  {
   "cell_type": "code",
   "execution_count": 2,
   "metadata": {},
   "outputs": [
    {
     "name": "stdout",
     "output_type": "stream",
     "text": [
      "Original matrix\n",
      "[[1 0]\n",
      " [1 2]]\n",
      "Determinant:\n",
      "2.0\n"
     ]
    }
   ],
   "source": [
    "# Determinant\n",
    "import numpy as np\n",
    "from numpy import linalg\n",
    "\n",
    "a = np.array([[1, 0], [1, 2]])\n",
    "print(\"Original matrix\")\n",
    "print(a)\n",
    "print(\"Determinant:\")\n",
    "print(np.linalg.det(a))\n"
   ]
  },
  {
   "cell_type": "code",
   "execution_count": 3,
   "metadata": {},
   "outputs": [
    {
     "name": "stdout",
     "output_type": "stream",
     "text": [
      "Vector norm:\n",
      "8.426149773176359\n",
      "Matrix norm:\n",
      "5.477225575051661\n"
     ]
    }
   ],
   "source": [
    "# Matrix and vector norm \n",
    "v = np.array([1, 5, 6, 3])\n",
    "v_norm = np.linalg.norm(v)\n",
    "print(\"Vector norm:\")\n",
    "print(v_norm)\n",
    "\n",
    "m = np.array([[1,2],[3,4]])\n",
    "m_norm = np.linalg.norm(m)\n",
    "print(\"Matrix norm:\")\n",
    "print(m_norm)\n"
   ]
  },
  {
   "cell_type": "code",
   "execution_count": 8,
   "metadata": {},
   "outputs": [
    {
     "name": "stdout",
     "output_type": "stream",
     "text": [
      "Original matrix:\n",
      "[[ 3 -2]\n",
      " [ 1  0]]\n",
      "Eigenvalues [2. 1.]\n",
      "Eigenvectors [[0.89442719 0.70710678]\n",
      " [0.4472136  0.70710678]]\n"
     ]
    }
   ],
   "source": [
    "# Eigenvalue & Eigenvector\n",
    "a = np.array([[3, -2],[1, 0]])\n",
    "print(\"Original matrix:\")\n",
    "print(a)\n",
    "\n",
    "w, v = np.linalg.eig(a) \n",
    "print( \"Eigenvalues\", w)\n",
    "print( \"Eigenvectors\", v)"
   ]
  },
  {
   "cell_type": "code",
   "execution_count": 4,
   "metadata": {},
   "outputs": [
    {
     "name": "stdout",
     "output_type": "stream",
     "text": [
      "Original array:\n",
      "[[  4  12 -16]\n",
      " [ 12  37 -53]\n",
      " [-16 -53  98]]\n",
      "Lower-trianglular L in the Cholesky decomposition:\n",
      "[[ 2.  0.  0.]\n",
      " [ 6.  1.  0.]\n",
      " [-8. -5.  3.]]\n"
     ]
    }
   ],
   "source": [
    "# Lower-triangular L in the Cholesky decomposition\n",
    "a = np.array([[4, 12, -16], [12, 37, -53], [-16, -53, 98]])\n",
    "print(\"Original array:\")\n",
    "print(a)\n",
    "\n",
    "L = np.linalg.cholesky(a)\n",
    "print(\"Lower-trianglular L in the Cholesky decomposition:\")\n",
    "print(L)"
   ]
  }
 ],
 "metadata": {
  "interpreter": {
   "hash": "88467b9b1ce807389a03a7f9bd22e1160bcd6009775ec256ed1715726273d707"
  },
  "kernelspec": {
   "display_name": "Python 3.9.7 ('nlp')",
   "language": "python",
   "name": "python3"
  },
  "language_info": {
   "codemirror_mode": {
    "name": "ipython",
    "version": 3
   },
   "file_extension": ".py",
   "mimetype": "text/x-python",
   "name": "python",
   "nbconvert_exporter": "python",
   "pygments_lexer": "ipython3",
   "version": "3.9.7"
  },
  "orig_nbformat": 4
 },
 "nbformat": 4,
 "nbformat_minor": 2
}
