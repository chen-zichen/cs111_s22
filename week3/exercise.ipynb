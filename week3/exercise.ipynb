{
 "cells": [
  {
   "cell_type": "markdown",
   "metadata": {},
   "source": [
    "## Exercise time"
   ]
  },
  {
   "cell_type": "markdown",
   "metadata": {},
   "source": [
    "1. Determinant of \n",
    "   \n",
    "   [[1, 0], [1, 2]]\n",
    "2. Matrix and vector norm \n",
    "   \n",
    "   [1, 5, 6, 3], [[1,2],[3,4]]\n",
    "3. Eigenvalue & Eigenvector\n",
    "\n",
    "   [[3, -2],[1, 0]]\n",
    "4. Lower-triangular L in the Cholesky decomposition\n",
    "\n",
    "   [[4, 12, -16], [12, 37, -53], [-16, -53, 98]]"
   ]
  }
 ],
 "metadata": {
  "language_info": {
   "name": "python"
  },
  "orig_nbformat": 4
 },
 "nbformat": 4,
 "nbformat_minor": 2
}
