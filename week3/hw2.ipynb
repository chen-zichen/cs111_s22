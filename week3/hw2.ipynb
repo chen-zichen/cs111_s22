{
 "cells": [
  {
   "cell_type": "markdown",
   "metadata": {},
   "source": [
    "## HW 2"
   ]
  },
  {
   "cell_type": "markdown",
   "metadata": {},
   "source": [
    "1. The following three statements are all false. \n",
    "   Show the Python computation that proves that the statement fails \n",
    "   \n",
    "   **a. If P is a permutation matrix and A is any matrix, then PA = AP.**"
   ]
  },
  {
   "cell_type": "code",
   "execution_count": 5,
   "metadata": {},
   "outputs": [
    {
     "name": "stdout",
     "output_type": "stream",
     "text": [
      "A: \n",
      " [[1 2 3]\n",
      " [4 5 6]\n",
      " [7 8 9]]\n",
      "P: \n",
      " [[0 0 1]\n",
      " [0 1 0]\n",
      " [1 0 0]]\n"
     ]
    }
   ],
   "source": [
    "import numpy as np\n",
    "import numpy.linalg as npla\n",
    "\n",
    "# 3x3 matrix\n",
    "# P is a permutation matrix\n",
    "A = np.array([[1, 2, 3], [4, 5, 6], [7, 8, 9]])\n",
    "P = np.array([[0, 0, 1], [0, 1, 0], [1, 0, 0]])\n",
    "\n",
    "print('A: \\n', A)\n",
    "print('P: \\n', P)"
   ]
  },
  {
   "cell_type": "code",
   "execution_count": 12,
   "metadata": {},
   "outputs": [
    {
     "name": "stdout",
     "output_type": "stream",
     "text": [
      "A@P: \n",
      " [[3 2 1]\n",
      " [6 5 4]\n",
      " [9 8 7]]\n",
      "P@A: \n",
      " [[7 8 9]\n",
      " [4 5 6]\n",
      " [1 2 3]]\n",
      "A@P == P@A: \n",
      " [[False False False]\n",
      " [False  True False]\n",
      " [False False False]]\n"
     ]
    }
   ],
   "source": [
    "# A@P\n",
    "print('A@P: \\n', A@P)\n",
    "# P@A\n",
    "print('P@A: \\n', P@A)\n",
    "\n",
    "# whether A@P is equal to P@A\n",
    "print('A@P == P@A: \\n', A@P == P@A)\n"
   ]
  },
  {
   "cell_type": "markdown",
   "metadata": {},
   "source": [
    "**b. If matrix A is nonsingular, then it has a factorization A = LU where L is lower triangular and U is upper triangular.**"
   ]
  },
  {
   "cell_type": "code",
   "execution_count": 23,
   "metadata": {},
   "outputs": [
    {
     "name": "stdout",
     "output_type": "stream",
     "text": [
      "A: \n",
      " [[1 0 2]\n",
      " [1 0 1]\n",
      " [0 3 6]]\n",
      "A is non-singular: \n",
      " True\n"
     ]
    }
   ],
   "source": [
    "# A is non-singular matrix\n",
    "A = np.array([[1, 0, 2], [1, 0, 1], [0, 3, 6]])\n",
    "print('A: \\n', A)\n",
    "\n",
    "# wheter A is non-singular\n",
    "print('A is non-singular: \\n', npla.det(A) != 0)\n"
   ]
  },
  {
   "cell_type": "markdown",
   "metadata": {},
   "source": [
    "### review - how to prove:\n",
    "singular matrix A is \n",
    "\n",
    "if Det = 0 --> |A|=0\n",
    "\n",
    "**else**\n",
    "\n",
    "matrix A is non-singular "
   ]
  },
  {
   "cell_type": "code",
   "execution_count": 24,
   "metadata": {},
   "outputs": [
    {
     "name": "stdout",
     "output_type": "stream",
     "text": [
      "det of A: \n",
      " 3.0000000000000004\n"
     ]
    }
   ],
   "source": [
    "# det of A\n",
    "print('det of A: \\n', npla.det(A))\n"
   ]
  },
  {
   "cell_type": "markdown",
   "metadata": {},
   "source": [
    "Det A is != 0, A is a non-singular matrix. \n",
    "\n",
    "However, **without pivoting**, it is impossible to decompose A into L and U matrixes.\n",
    "\n",
    "We can not turn the middle element of last row to 0 with any row combination. "
   ]
  },
  {
   "cell_type": "code",
   "execution_count": 30,
   "metadata": {},
   "outputs": [
    {
     "name": "stdout",
     "output_type": "stream",
     "text": [
      "P: \n",
      " [[1. 0. 0.]\n",
      " [0. 0. 1.]\n",
      " [0. 1. 0.]]\n",
      "L: \n",
      " [[1. 0. 0.]\n",
      " [0. 1. 0.]\n",
      " [1. 0. 1.]]\n",
      "U: \n",
      " [[ 1.  0.  2.]\n",
      " [ 0.  3.  6.]\n",
      " [ 0.  0. -1.]]\n"
     ]
    }
   ],
   "source": [
    "# use 'LUfactorNopiv()' to get the LU factorization of A without pivoting from lecture's function\n",
    "\n",
    "# if have pivoting, det of A is not equal to 0\n",
    "\n",
    "import scipy\n",
    "import scipy.linalg \n",
    "\n",
    "# decompose A to L and U (lu decomposition) \n",
    "P, L, U = scipy.linalg.lu(A)\n",
    "print('P: \\n', P)\n",
    "print('L: \\n', L)\n",
    "print('U: \\n', U)\n"
   ]
  },
  {
   "cell_type": "markdown",
   "metadata": {},
   "source": [
    "**c. The product of two symmetric matrices is a symmetric matrix.**"
   ]
  },
  {
   "cell_type": "markdown",
   "metadata": {},
   "source": [
    "### review - what is the symmetric matrix？\n",
    "\n",
    "if A'(transpose) = A  --> all the corresponding elements are the same  --> symmetric matrix\n",
    "\n",
    "if A'(transpose) != A   --> non-symmetric\n",
    "\n"
   ]
  },
  {
   "cell_type": "code",
   "execution_count": 31,
   "metadata": {},
   "outputs": [
    {
     "name": "stdout",
     "output_type": "stream",
     "text": [
      "A is symmetric: \n",
      " [[ True  True  True]\n",
      " [ True  True  True]\n",
      " [ True  True  True]]\n",
      "B is symmetric: \n",
      " [[ True  True  True]\n",
      " [ True  True  True]\n",
      " [ True  True  True]]\n"
     ]
    }
   ],
   "source": [
    "A = np.array([[1, 0, 1], [0, 0, 0], [1, 0, 0]])\n",
    "\n",
    "B = np.array([[0, 0, 0], [0, 0, 0], [0, 0, 1]])\n",
    "\n",
    "# proving A is symmetric\n",
    "print('A is symmetric: \\n', A == A.T)\n",
    "# proving B is symmetric\n",
    "print('B is symmetric: \\n', B == B.T)"
   ]
  },
  {
   "cell_type": "code",
   "execution_count": 33,
   "metadata": {},
   "outputs": [
    {
     "name": "stdout",
     "output_type": "stream",
     "text": [
      "A@B: \n",
      " [[0 0 1]\n",
      " [0 0 0]\n",
      " [0 0 0]]\n",
      "S is symmetric: \n",
      " [[ True  True False]\n",
      " [ True  True  True]\n",
      " [False  True  True]]\n"
     ]
    }
   ],
   "source": [
    "# A@B\n",
    "S = A@B\n",
    "print('A@B: \\n', S)\n",
    "# check whether S is symmetric\n",
    "print('S is symmetric: \\n', S == S.T)"
   ]
  },
  {
   "cell_type": "markdown",
   "metadata": {},
   "source": [
    "2. A = LU"
   ]
  },
  {
   "cell_type": "code",
   "execution_count": 34,
   "metadata": {},
   "outputs": [
    {
     "name": "stdout",
     "output_type": "stream",
     "text": [
      "A: \n",
      " [[5 3 3]\n",
      " [3 5 3]\n",
      " [3 3 5]]\n"
     ]
    }
   ],
   "source": [
    "A = np.array([[5, 3, 3], [3, 5, 3], [3, 3, 5]])\n",
    "print('A: \\n', A)"
   ]
  },
  {
   "cell_type": "markdown",
   "metadata": {},
   "source": [
    "![avatar](lu.png)"
   ]
  },
  {
   "cell_type": "code",
   "execution_count": 36,
   "metadata": {},
   "outputs": [
    {
     "name": "stdout",
     "output_type": "stream",
     "text": [
      "P: \n",
      " [[1. 0. 0.]\n",
      " [0. 1. 0.]\n",
      " [0. 0. 1.]]\n",
      "L: \n",
      " [[1.    0.    0.   ]\n",
      " [0.6   1.    0.   ]\n",
      " [0.6   0.375 1.   ]]\n",
      "U: \n",
      " [[5.   3.   3.  ]\n",
      " [0.   3.2  1.2 ]\n",
      " [0.   0.   2.75]]\n"
     ]
    }
   ],
   "source": [
    "# use scipy \n",
    "P, L, U = scipy.linalg.lu(A)\n",
    "print('P: \\n', P)\n",
    "print('L: \\n', L)\n",
    "print('U: \\n', U)\n"
   ]
  },
  {
   "cell_type": "markdown",
   "metadata": {},
   "source": [
    "3. A = LU"
   ]
  },
  {
   "cell_type": "code",
   "execution_count": 37,
   "metadata": {},
   "outputs": [
    {
     "name": "stdout",
     "output_type": "stream",
     "text": [
      "A: \n",
      " [[ 0  2  3]\n",
      " [ 1  1  1]\n",
      " [-1  1  0]]\n"
     ]
    }
   ],
   "source": [
    "A = np.array([[0, 2, 3], [1, 1, 1], [-1, 1, 0]])\n",
    "print('A: \\n', A)"
   ]
  },
  {
   "cell_type": "markdown",
   "metadata": {},
   "source": [
    "![avatar](lu2.png)"
   ]
  },
  {
   "cell_type": "markdown",
   "metadata": {},
   "source": [
    "4. Write Usolve()\n",
    "\n",
    "    ref to: lecture 4\n",
    "    \n",
    "**Using L.U Factorization to help solve Ax = b problems**\n",
    "\n",
    "**Assuming we have L.U, how can we solve b?**\n",
    "\n",
    "Here's a function called Lsolve(L, b) that takes an L and b, and returns a vector y, such that Ly = b.\n",
    "\n",
    "y is an \"in-between\" solution for what we ultimately want (vector x). We then use y and U to give us x in *another* function called Usolve(U, b)."
   ]
  },
  {
   "cell_type": "code",
   "execution_count": 38,
   "metadata": {},
   "outputs": [],
   "source": [
    "def Lsolve(L, b):\n",
    "    \"\"\"Forward solve a unit lower triangular system Ly = b for y\n",
    "    Parameters: \n",
    "      L: the matrix, must be square, lower triangular, with ones on the diagonal\n",
    "      b: the right-hand side vector\n",
    "    Output:\n",
    "      y: the solution vector to L @ y == b\n",
    "    \"\"\"\n",
    "    \n",
    "    # Check the input\n",
    "    m, n = L.shape\n",
    "    assert m == n, \"matrix L must be square\"\n",
    "    assert np.all(np.tril(L) == L), \"matrix L must be lower triangular\"\n",
    "    assert np.all(np.diag(L) == 1), \"matrix L must have ones on the diagonal\"\n",
    "    \n",
    "    # Make a copy of b that we will transform into the solution\n",
    "    y = b.astype(np.float64).copy()\n",
    "    \n",
    "    # Forward solve\n",
    "    for col in range(n):\n",
    "        y[col+1:] -= y[col] * L[col+1:, col]\n",
    "        \n",
    "    return y"
   ]
  },
  {
   "cell_type": "code",
   "execution_count": 47,
   "metadata": {},
   "outputs": [],
   "source": [
    "def Usolve(U, b):\n",
    "    \"\"\"Backward solve a unit upper triangular system Ux = b for x\n",
    "    Parameters:\n",
    "      U: the matrix, must be square, upper triangular, with ones on the diagonal\n",
    "      b: the right-hand side vector\n",
    "    Output:\n",
    "      x: the solution vector to U @ x == b\n",
    "    \"\"\"\n",
    "    \n",
    "    # Check the input\n",
    "    m, n = U.shape\n",
    "    assert m == n, \"matrix U must be square\"\n",
    "    assert np.all(np.triu(U) == U), \"matrix U must be upper triangular\"\n",
    "    \n",
    "    # Make a copy of b and U, because we do not want to mutate them \n",
    "    y = b.astype(np.float64).copy()\n",
    "    U_copy = U.astype(np.float64).copy()\n",
    "    \n",
    "    for col in range(n):\n",
    "        y[col] /= U_copy[col, col]    # Divide by the diagonal element\n",
    "        U_copy[col] /= U_copy[col, col]   # divide by the diagonal element\n",
    "\n",
    "        y[:col] -= y[col] * U_copy[:col, col]  # Subtract from the rest of the row\n",
    "        \n",
    "    return y"
   ]
  },
  {
   "cell_type": "code",
   "execution_count": 42,
   "metadata": {},
   "outputs": [],
   "source": [
    "# from lecture_4's function\n",
    "def LUfactor(A, pivoting = True):\n",
    "    \"\"\"Factor a square matrix with partial pivoting, A[p,:] == L @ U\n",
    "    Parameters: \n",
    "      A: the matrix.\n",
    "      pivoting: whether or not to do partial pivoting\n",
    "    Outputs (in order):\n",
    "      L: the lower triangular factor, same dimensions as A, with ones on the diagonal\n",
    "      U: the upper triangular factor, same dimensions as A\n",
    "      p: the permutation vector that permutes the rows of A by partial pivoting\n",
    "    \"\"\"\n",
    "    \n",
    "    # Check the input\n",
    "    m, n = A.shape\n",
    "    assert m == n, 'input matrix A must be square'\n",
    "    \n",
    "    # Initialize p to be the identity permutation\n",
    "    p = np.array(range(n))\n",
    "    \n",
    "    # Make a copy of the matrix that we will transform into L and U\n",
    "    LU = A.astype(np.float64).copy()\n",
    "    \n",
    "    # Eliminate each column in turn\n",
    "    for piv_col in range(n):\n",
    "     \n",
    "        # Choose the pivot row and swap it into place\n",
    "        if pivoting:\n",
    "            piv_row = piv_col + np.argmax(np.abs(LU[piv_col:, piv_col]))   # Added np.abs() to fix bug\n",
    "            assert LU[piv_row, piv_col] != 0., \"can't find nonzero pivot, matrix is singular\"\n",
    "            LU[[piv_col, piv_row], :]  = LU[[piv_row, piv_col], :]\n",
    "            p[ [piv_col, piv_row] ]      = p[[piv_row, piv_col]]\n",
    "            \n",
    "        # Update the rest of the matrix\n",
    "        pivot = LU[piv_col, piv_col]\n",
    "        assert pivot != 0., \"pivot is zero, can't continue\"\n",
    "        \n",
    "        for row in range(piv_col + 1, n):\n",
    "            multiplier = LU[row, piv_col] / pivot\n",
    "            LU[row, piv_col] = multiplier\n",
    "            LU[row, (piv_col+1):] -= multiplier * LU[piv_col, (piv_col+1):]\n",
    "            \n",
    "    # Separate L and U in the result\n",
    "    U = np.triu(LU)\n",
    "    L = LU - U + np.eye(n)\n",
    "    \n",
    "    # This will return the L, U, as well as p (the permutation vector).\n",
    "    return (L, U, p)"
   ]
  },
  {
   "cell_type": "code",
   "execution_count": 44,
   "metadata": {},
   "outputs": [
    {
     "name": "stdout",
     "output_type": "stream",
     "text": [
      "matrix A:\n",
      " [[ 9.  0.  1. 20.  5.]\n",
      " [11. 19. 19.  7.  8.]\n",
      " [14. 19.  1. 18. 11.]\n",
      " [ 8.  4.  6.  7.  5.]\n",
      " [ 5.  4.  1. 14.  1.]]\n",
      "\n",
      "original x: [10.  4.  8.  2.  2.]\n",
      "\n",
      "right-hand side b: [148. 368. 282. 168. 104.]\n"
     ]
    }
   ],
   "source": [
    "# Solve with the larger example - check this after your homework is done! :)\n",
    "\n",
    "# A larger example of LU with partial pivoting\n",
    "\n",
    "A = np.round(20*np.random.rand(5,5))\n",
    "print('matrix A:\\n', A)\n",
    "xorig = np.round(10*np.random.rand(5))\n",
    "print('\\noriginal x:', xorig)\n",
    "b = A @ xorig\n",
    "print('\\nright-hand side b:', b)"
   ]
  },
  {
   "cell_type": "code",
   "execution_count": 45,
   "metadata": {},
   "outputs": [
    {
     "name": "stdout",
     "output_type": "stream",
     "text": [
      "[[ 1.          0.          0.          0.          0.        ]\n",
      " [ 0.64285714  1.          0.          0.          0.        ]\n",
      " [ 0.78571429 -0.33333333  1.          0.          0.        ]\n",
      " [ 0.57142857  0.56140351  0.28516746  1.          0.        ]\n",
      " [ 0.35714286  0.22807018  0.03062201 -0.85254692  1.        ]] \n",
      "\n",
      " [[ 14.          19.           1.          18.          11.        ]\n",
      " [  0.         -12.21428571   0.35714286   8.42857143  -2.07142857]\n",
      " [  0.           0.          18.33333333  -4.33333333  -1.33333333]\n",
      " [  0.           0.           0.          -6.78181818   0.25741627]\n",
      " [  0.           0.           0.           0.          -2.19585156]] \n",
      "\n",
      " [2 0 1 3 4] \n",
      "\n",
      "norm of difference between L times U and permuted A: 3.76822190084106e-15\n",
      "RELATIVE norm of difference between L times U and permuted A: 7.003452465649504e-17\n"
     ]
    }
   ],
   "source": [
    "\n",
    "# Factor the larger example\n",
    "L, U, p = LUfactor(A)\n",
    "print(L,\"\\n\\n\",U,\"\\n\\n\", p,\"\\n\")\n",
    "\n",
    "print(\"norm of difference between L times U and permuted A:\", npla.norm( L@U - A[p,:]))\n",
    "print(\"RELATIVE norm of difference between L times U and permuted A:\", npla.norm( L@U - A[p,:])/npla.norm(A[p, :]))\n"
   ]
  },
  {
   "cell_type": "code",
   "execution_count": 50,
   "metadata": {},
   "outputs": [
    {
     "name": "stdout",
     "output_type": "stream",
     "text": [
      "y: [282.         -33.28571429 135.33333333 -13.04880383  -4.39170312]\n",
      "\n",
      "x: [11.87191783  3.92953965  7.98205677  2.          2.        ]\n",
      "\n",
      "residual norm: 39.4109797787235\n"
     ]
    }
   ],
   "source": [
    "y = Lsolve(L, b[p])   # b[p] is the permuted b\n",
    "print(\"y:\", y)\n",
    "x = Usolve(U, y)\n",
    "print(\"\\nx:\", x)\n",
    "print(\"\\nresidual norm:\", npla.norm(b - A @ x))"
   ]
  }
 ],
 "metadata": {
  "interpreter": {
   "hash": "88467b9b1ce807389a03a7f9bd22e1160bcd6009775ec256ed1715726273d707"
  },
  "kernelspec": {
   "display_name": "Python 3.9.7 ('nlp')",
   "language": "python",
   "name": "python3"
  },
  "language_info": {
   "codemirror_mode": {
    "name": "ipython",
    "version": 3
   },
   "file_extension": ".py",
   "mimetype": "text/x-python",
   "name": "python",
   "nbconvert_exporter": "python",
   "pygments_lexer": "ipython3",
   "version": "3.9.7"
  },
  "orig_nbformat": 4
 },
 "nbformat": 4,
 "nbformat_minor": 2
}
