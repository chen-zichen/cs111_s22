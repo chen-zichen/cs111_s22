{
 "cells": [
  {
   "cell_type": "markdown",
   "metadata": {},
   "source": [
    "## HW 2"
   ]
  },
  {
   "cell_type": "markdown",
   "metadata": {},
   "source": [
    "1. The following three statements are all false. \n",
    "   Show the Python computation that proves that the statement fails \n",
    "   \n",
    "   **a. If P is a permutation matrix and A is any matrix, then PA = AP.**"
   ]
  },
  {
   "cell_type": "code",
   "execution_count": 5,
   "metadata": {},
   "outputs": [
    {
     "name": "stdout",
     "output_type": "stream",
     "text": [
      "A: \n",
      " [[1 2 3]\n",
      " [4 5 6]\n",
      " [7 8 9]]\n",
      "P: \n",
      " [[0 0 1]\n",
      " [0 1 0]\n",
      " [1 0 0]]\n"
     ]
    }
   ],
   "source": [
    "import numpy as np\n",
    "import numpy.linalg as npla\n",
    "\n",
    "# 3x3 matrix\n",
    "# P is a permutation matrix\n",
    "A = np.array([[1, 2, 3], [4, 5, 6], [7, 8, 9]])\n",
    "P = np.array([[0, 0, 1], [0, 1, 0], [1, 0, 0]])\n",
    "\n",
    "print('A: \\n', A)\n",
    "print('P: \\n', P)"
   ]
  },
  {
   "cell_type": "code",
   "execution_count": 12,
   "metadata": {},
   "outputs": [
    {
     "name": "stdout",
     "output_type": "stream",
     "text": [
      "A@P: \n",
      " [[3 2 1]\n",
      " [6 5 4]\n",
      " [9 8 7]]\n",
      "P@A: \n",
      " [[7 8 9]\n",
      " [4 5 6]\n",
      " [1 2 3]]\n",
      "A@P == P@A: \n",
      " [[False False False]\n",
      " [False  True False]\n",
      " [False False False]]\n"
     ]
    }
   ],
   "source": [
    "# A@P\n",
    "print('A@P: \\n', A@P)\n",
    "# P@A\n",
    "print('P@A: \\n', P@A)\n",
    "\n",
    "# whether A@P is equal to P@A\n",
    "print('A@P == P@A: \\n', A@P == P@A)\n"
   ]
  },
  {
   "cell_type": "markdown",
   "metadata": {},
   "source": [
    "**b. If matrix A is nonsingular, then it has a factorization A = LU where L is lower triangular and U is upper triangular.**"
   ]
  },
  {
   "cell_type": "code",
   "execution_count": 23,
   "metadata": {},
   "outputs": [
    {
     "name": "stdout",
     "output_type": "stream",
     "text": [
      "A: \n",
      " [[1 0 2]\n",
      " [1 0 1]\n",
      " [0 3 6]]\n",
      "A is non-singular: \n",
      " True\n"
     ]
    }
   ],
   "source": [
    "# A is non-singular matrix\n",
    "A = np.array([[1, 0, 2], [1, 0, 1], [0, 3, 6]])\n",
    "print('A: \\n', A)\n",
    "\n",
    "# wheter A is non-singular\n",
    "print('A is non-singular: \\n', npla.det(A) != 0)\n"
   ]
  },
  {
   "cell_type": "markdown",
   "metadata": {},
   "source": [
    "### review - how to prove:\n",
    "singular matrix A is \n",
    "\n",
    "if Det = 0 --> |A|=0\n",
    "\n",
    "**else**\n",
    "\n",
    "matrix A is non-singular "
   ]
  },
  {
   "cell_type": "code",
   "execution_count": 24,
   "metadata": {},
   "outputs": [
    {
     "name": "stdout",
     "output_type": "stream",
     "text": [
      "det of A: \n",
      " 3.0000000000000004\n"
     ]
    }
   ],
   "source": [
    "# det of A\n",
    "print('det of A: \\n', npla.det(A))\n"
   ]
  },
  {
   "cell_type": "markdown",
   "metadata": {},
   "source": [
    "Det A is != 0, A is a non-singular matrix. \n",
    "\n",
    "However, **without pivoting**, it is impossible to decompose A into L and U matrixes.\n",
    "\n",
    "We can not turn the middle element of last row to 0 with any row combination. "
   ]
  },
  {
   "cell_type": "code",
   "execution_count": 30,
   "metadata": {},
   "outputs": [
    {
     "name": "stdout",
     "output_type": "stream",
     "text": [
      "P: \n",
      " [[1. 0. 0.]\n",
      " [0. 0. 1.]\n",
      " [0. 1. 0.]]\n",
      "L: \n",
      " [[1. 0. 0.]\n",
      " [0. 1. 0.]\n",
      " [1. 0. 1.]]\n",
      "U: \n",
      " [[ 1.  0.  2.]\n",
      " [ 0.  3.  6.]\n",
      " [ 0.  0. -1.]]\n"
     ]
    }
   ],
   "source": [
    "# use 'LUfactorNopiv()' to get the LU factorization of A without pivoting from lecture's function\n",
    "\n",
    "# if have pivoting, det of A is not equal to 0\n",
    "\n",
    "import scipy\n",
    "import scipy.linalg \n",
    "\n",
    "# decompose A to L and U (lu decomposition) \n",
    "P, L, U = scipy.linalg.lu(A)\n",
    "print('P: \\n', P)\n",
    "print('L: \\n', L)\n",
    "print('U: \\n', U)\n"
   ]
  },
  {
   "cell_type": "markdown",
   "metadata": {},
   "source": [
    "**c. The product of two symmetric matrices is a symmetric matrix.**"
   ]
  },
  {
   "cell_type": "markdown",
   "metadata": {},
   "source": [
    "### review - what is the symmetric matrix？\n",
    "\n",
    "if A'(transpose)=A\n",
    "\n"
   ]
  },
  {
   "cell_type": "code",
   "execution_count": null,
   "metadata": {},
   "outputs": [],
   "source": [
    "\n"
   ]
  }
 ],
 "metadata": {
  "interpreter": {
   "hash": "88467b9b1ce807389a03a7f9bd22e1160bcd6009775ec256ed1715726273d707"
  },
  "kernelspec": {
   "display_name": "Python 3.9.7 ('nlp')",
   "language": "python",
   "name": "python3"
  },
  "language_info": {
   "codemirror_mode": {
    "name": "ipython",
    "version": 3
   },
   "file_extension": ".py",
   "mimetype": "text/x-python",
   "name": "python",
   "nbconvert_exporter": "python",
   "pygments_lexer": "ipython3",
   "version": "3.9.7"
  },
  "orig_nbformat": 4
 },
 "nbformat": 4,
 "nbformat_minor": 2
}
