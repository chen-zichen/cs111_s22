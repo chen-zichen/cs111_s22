{
 "cells": [
  {
   "cell_type": "markdown",
   "metadata": {},
   "source": [
    "# Demonstration of the Temperature Problem\n",
    "\n",
    "### We'll start off by importing what we need"
   ]
  },
  {
   "cell_type": "code",
   "execution_count": 2,
   "metadata": {},
   "outputs": [],
   "source": [
    "# The usual suspects...\n",
    "import numpy as np\n",
    "import numpy.linalg as npla\n",
    "\n",
    "# We'll need to import these to deal with SPARSE matrices\n",
    "import scipy\n",
    "import scipy.sparse.linalg as spla\n",
    "from scipy import sparse\n",
    "from scipy import linalg\n",
    "\n",
    "# These are so we can make pretty 2D & 3D plots...\n",
    "import matplotlib.pyplot as plt\n",
    "from matplotlib import cm\n",
    "from mpl_toolkits.mplot3d import axes3d\n",
    "%matplotlib tk"
   ]
  },
  {
   "cell_type": "markdown",
   "metadata": {},
   "source": [
    "## We'll create 3 functions for our use:\n",
    "### 1. make_A(k)    --- creates the nxn matrix we need from a kxk sized room model\n",
    "### 2. make_b(k)    --- creates the right-hand side vector in the Ax = b setup\n",
    "### 3. radiator(k)    --- creates a radiator wall at a set temperature (default is 100)"
   ]
  },
  {
   "cell_type": "code",
   "execution_count": 8,
   "metadata": {},
   "outputs": [],
   "source": [
    "def make_A(k):\n",
    "    \"\"\"Create the matrix for the temperature problem on a k-by-k grid (2-dimensional).\n",
    "    Parameters: \n",
    "      k: number of grid points in each dimension.\n",
    "    Outputs:\n",
    "      A: the sparse k**2-by-k**2 matrix representing the finite difference approximation to Poisson's equation.\n",
    "    \"\"\"\n",
    "    # First make a list with one triple (row, column, value) for each nonzero element of A\n",
    "    triples = []\n",
    "    for i in range(k):\n",
    "        for j in range(k):\n",
    "            # what row of the matrix is grid point (i,j)?\n",
    "            row = j + i*k   # this is the row index of A[i,j]\n",
    "            # the diagonal element in this row\n",
    "            triples.append((row, row, 4.0))\n",
    "            # connect to left grid neighbor\n",
    "            if j > 0:\n",
    "                triples.append((row, row - 1, -1.0))\n",
    "            # ... right neighbor\n",
    "            if j < k - 1:\n",
    "                triples.append((row, row + 1, -1.0))\n",
    "            # ... neighbor above\n",
    "            if i > 0:\n",
    "                triples.append((row, row - k, -1.0))\n",
    "            # ... neighbor below\n",
    "            if i < k - 1:\n",
    "                triples.append((row, row + k, -1.0))\n",
    "        \n",
    "    \n",
    "    # Finally convert the list of triples to a scipy sparse matrix\n",
    "    ndim = k*k\n",
    "    rownum = [t[0] for t in triples]\n",
    "    colnum = [t[1] for t in triples]\n",
    "    values = [t[2] for t in triples]\n",
    "    A = sparse.csr_matrix((values, (rownum, colnum)), shape = (ndim, ndim))\n",
    "    \n",
    "    return A "
   ]
  },
  {
   "cell_type": "code",
   "execution_count": 9,
   "metadata": {},
   "outputs": [],
   "source": [
    "def make_b(k, top = 0, bottom = 0, left = 0, right = 0):\n",
    "    \"\"\"Create the right-hand side for the temperature problem on a k-by-k grid.\n",
    "    Parameters: \n",
    "      k: number of grid points in each dimension.\n",
    "      top: list of k values for top boundary (optional, defaults to 0)\n",
    "      bottom: list of k values for bottom boundary (optional, defaults to 0)\n",
    "      left: list of k values for top boundary (optional, defaults to 0)\n",
    "      right: list of k values for top boundary (optional, defaults to 0)\n",
    "    Outputs:\n",
    "      b: the k**2 element vector (as a numpy array) for the rhs of the Poisson equation with given boundary conditions\n",
    "    \"\"\"\n",
    "    # Start with a vector of zeros\n",
    "    ndim = k*k\n",
    "    b = np.zeros(shape = ndim)\n",
    "    \n",
    "    # Fill in the four boundaries as appropriate\n",
    "    b[0        : k       ] += top\n",
    "    b[ndim - k : ndim    ] += bottom\n",
    "    b[0        : ndim : k] += left   # each time we skip k elements\n",
    "    b[k-1      : ndim : k] += right   \n",
    "  \n",
    "    return b"
   ]
  },
  {
   "cell_type": "code",
   "execution_count": 10,
   "metadata": {},
   "outputs": [],
   "source": [
    "def radiator(k, width = .2, temperature = 100.):\n",
    "    \"\"\"Create one wall with a radiator\n",
    "    Parameters: \n",
    "      k: number of grid points in each dimension; length of the wall.\n",
    "      width: width of the radiator as a fraction of length of the wall (defaults to 0.2)\n",
    "      temperature: temperature of the radiator (defaults to 100)\n",
    "    Outputs:\n",
    "      wall: the k element vector (as a numpy array) for the boundary conditions at the wall\n",
    "    \"\"\"\n",
    "    rad_start = int(k * (0.5 - width/2))\n",
    "    rad_end = int(k * (0.5 + width/2))\n",
    "    wall = np.zeros(k)\n",
    "    wall[rad_start : rad_end] = temperature\n",
    "    \n",
    "    return wall"
   ]
  },
  {
   "cell_type": "markdown",
   "metadata": {},
   "source": [
    "## We will now set up the problem!"
   ]
  },
  {
   "cell_type": "code",
   "execution_count": 11,
   "metadata": {
    "scrolled": false
   },
   "outputs": [
    {
     "name": "stdout",
     "output_type": "stream",
     "text": [
      "A_m: \n",
      " [[ 4. -1.  0. -1.  0.  0.  0.  0.  0.]\n",
      " [-1.  4. -1.  0. -1.  0.  0.  0.  0.]\n",
      " [ 0. -1.  4.  0.  0. -1.  0.  0.  0.]\n",
      " [-1.  0.  0.  4. -1.  0. -1.  0.  0.]\n",
      " [ 0. -1.  0. -1.  4. -1.  0. -1.  0.]\n",
      " [ 0.  0. -1.  0. -1.  4.  0.  0. -1.]\n",
      " [ 0.  0.  0. -1.  0.  0.  4. -1.  0.]\n",
      " [ 0.  0.  0.  0. -1.  0. -1.  4. -1.]\n",
      " [ 0.  0.  0.  0.  0. -1.  0. -1.  4.]]\n",
      "A_4: \n",
      " [[ 4. -1. -1.  0.]\n",
      " [-1.  4.  0. -1.]\n",
      " [-1.  0.  4. -1.]\n",
      " [ 0. -1. -1.  4.]]\n",
      "A:   (0, 0)\t4.0\n",
      "  (0, 1)\t-1.0\n",
      "  (0, 3)\t-1.0\n",
      "  (1, 0)\t-1.0\n",
      "  (1, 1)\t4.0\n",
      "  (1, 2)\t-1.0\n",
      "  (1, 4)\t-1.0\n",
      "  (2, 1)\t-1.0\n",
      "  (2, 2)\t4.0\n",
      "  (2, 5)\t-1.0\n",
      "  (3, 0)\t-1.0\n",
      "  (3, 3)\t4.0\n",
      "  (3, 4)\t-1.0\n",
      "  (3, 6)\t-1.0\n",
      "  (4, 1)\t-1.0\n",
      "  (4, 3)\t-1.0\n",
      "  (4, 4)\t4.0\n",
      "  (4, 5)\t-1.0\n",
      "  (4, 7)\t-1.0\n",
      "  (5, 2)\t-1.0\n",
      "  (5, 4)\t-1.0\n",
      "  (5, 5)\t4.0\n",
      "  (5, 8)\t-1.0\n",
      "  (6, 3)\t-1.0\n",
      "  (6, 6)\t4.0\n",
      "  (6, 7)\t-1.0\n",
      "  (7, 4)\t-1.0\n",
      "  (7, 6)\t-1.0\n",
      "  (7, 7)\t4.0\n",
      "  (7, 8)\t-1.0\n",
      "  (8, 5)\t-1.0\n",
      "  (8, 7)\t-1.0\n",
      "  (8, 8)\t4.0\n",
      "[[ 4. -1.  0. -1.  0.  0.  0.  0.  0.]\n",
      " [-1.  4. -1.  0. -1.  0.  0.  0.  0.]\n",
      " [ 0. -1.  4.  0.  0. -1.  0.  0.  0.]\n",
      " [-1.  0.  0.  4. -1.  0. -1.  0.  0.]\n",
      " [ 0. -1.  0. -1.  4. -1.  0. -1.  0.]\n",
      " [ 0.  0. -1.  0. -1.  4.  0.  0. -1.]\n",
      " [ 0.  0.  0. -1.  0.  0.  4. -1.  0.]\n",
      " [ 0.  0.  0.  0. -1.  0. -1.  4. -1.]\n",
      " [ 0.  0.  0.  0.  0. -1.  0. -1.  4.]]\n",
      "\n",
      "b: [  0.   0. 100.   0.   0. 100.   0.   0.   0.]\n",
      "\n",
      "rad: [100. 100.   0.]\n"
     ]
    }
   ],
   "source": [
    "###########################\n",
    "# Dimension of the square room (NOT the matrix)\n",
    "# TRY using various values between 2 and 100\n",
    "k = 3\n",
    "\n",
    "###########################\n",
    "# Set up the width of the radiator\n",
    "# Default (per the function def) is 0.2\n",
    "# This is a number relative to the length of the side\n",
    "rk = radiator(k, width = 0.5)\n",
    "\n",
    "###########################\n",
    "# Create the matrix!\n",
    "# A will be the sparse nxn matrix (where n = k**2)\n",
    "A = make_A(k)\n",
    "# convert A to matrix format\n",
    "A_m = A.toarray()\n",
    "###########################\n",
    "# Create the b matrix: defines where the radiators go in the room\n",
    "# SIDE=rk is placement of radiator, where SIDE can be (top, right, bottom, left)\n",
    "b = make_b(k, right=rk)\n",
    "#b = make_b(k, right=rk, left=rk, top=rk, bottom=rk)\n",
    "\n",
    "###########################\n",
    "# Print stuff to 's see what we got...\n",
    "print(\"A_m: \\n\", A_m)\n",
    "print(\"A_4: \\n\", make_A(2).toarray())\n",
    "print(\"A:\",A)\n",
    "#print()\n",
    "print(A.todense())\n",
    "print(\"\\nb:\", b)\n",
    "print(\"\\nrad:\", rk)"
   ]
  },
  {
   "cell_type": "code",
   "execution_count": 12,
   "metadata": {},
   "outputs": [
    {
     "name": "stdout",
     "output_type": "stream",
     "text": [
      "[ 5.80357143 16.07142857 39.73214286  7.14285714 18.75       42.85714286\n",
      "  4.01785714  8.92857143 12.94642857] \n",
      "\n",
      "[[ 5.80357143 16.07142857 39.73214286]\n",
      " [ 7.14285714 18.75       42.85714286]\n",
      " [ 4.01785714  8.92857143 12.94642857]]\n"
     ]
    }
   ],
   "source": [
    "# NOW!!! WE SOLVE IT!!\n",
    "# We're going to use a different function (not .solve) altogether to solve Ax=b using a sparse matrix:\n",
    "t = spla.spsolve(A,b)\n",
    "\n",
    "# Reshape it back to a model (square) of the room\n",
    "T = t.reshape(k,k)\n",
    "\n",
    "print(t,\"\\n\")\n",
    "print(T)\n",
    "# Looking at the data printed out is hopeless... you NEED to visualize it..."
   ]
  },
  {
   "cell_type": "markdown",
   "metadata": {},
   "source": [
    "## Here come the Graphs!\n",
    "\n",
    "**Let's start with a simple demonstration...**"
   ]
  },
  {
   "cell_type": "markdown",
   "metadata": {},
   "source": [
    "### Ok... now for the real thing..."
   ]
  },
  {
   "cell_type": "code",
   "execution_count": 13,
   "metadata": {},
   "outputs": [
    {
     "data": {
      "text/plain": [
       "<matplotlib.image.AxesImage at 0x7f7f1824ebe0>"
      ]
     },
     "execution_count": 13,
     "metadata": {},
     "output_type": "execute_result"
    }
   ],
   "source": [
    "# Prep the plotter...\n",
    "# Plot just a 2D image\n",
    "\n",
    "#%matplotlib tk\n",
    "plt.figure()\n",
    "plt.imshow(T, cmap=cm.hot)    # T is the temperature matrix"
   ]
  },
  {
   "cell_type": "markdown",
   "metadata": {},
   "source": [
    "### Let's try and project the 2D graph onto a 3D representation!"
   ]
  },
  {
   "cell_type": "code",
   "execution_count": 14,
   "metadata": {},
   "outputs": [
    {
     "name": "stdout",
     "output_type": "stream",
     "text": [
      "3\n"
     ]
    }
   ],
   "source": [
    "print(k)"
   ]
  },
  {
   "cell_type": "code",
   "execution_count": 15,
   "metadata": {},
   "outputs": [
    {
     "name": "stdout",
     "output_type": "stream",
     "text": [
      "[[0 1 2]\n",
      " [0 1 2]\n",
      " [0 1 2]] \n",
      "\n",
      "[[0 0 0]\n",
      " [1 1 1]\n",
      " [2 2 2]]\n"
     ]
    }
   ],
   "source": [
    "# Prep the plotter again...\n",
    "# X, Y are matrices of the x, y coordinates of each grid point  \n",
    "k=3\n",
    "X, Y = np.meshgrid(range(k), range(k))  \n",
    "# %matplotlib tk\n",
    "print(X,\"\\n\")\n",
    "print(Y)"
   ]
  },
  {
   "cell_type": "code",
   "execution_count": 16,
   "metadata": {},
   "outputs": [
    {
     "name": "stderr",
     "output_type": "stream",
     "text": [
      "/var/folders/zr/26bbg2v930b01ykq1cqgjyb40000gn/T/ipykernel_96718/3855996379.py:3: MatplotlibDeprecationWarning: Calling gca() with keyword arguments was deprecated in Matplotlib 3.4. Starting two minor releases later, gca() will take no keyword arguments. The gca() function should only be used to get the current axes, or if no axes exist, create new axes with default keyword arguments. To create a new axes with non-default arguments, use plt.axes() or plt.subplot().\n",
      "  ax = fig.gca(projection='3d')\n"
     ]
    },
    {
     "data": {
      "text/plain": [
       "<mpl_toolkits.mplot3d.art3d.Poly3DCollection at 0x7f7f59a30730>"
      ]
     },
     "execution_count": 16,
     "metadata": {},
     "output_type": "execute_result"
    }
   ],
   "source": [
    "# Plot the 2D image as a 3D projection\n",
    "fig = plt.figure()\n",
    "ax = fig.gca(projection='3d')\n",
    "ax = fig.gca()\n",
    "# X is the x coordinate of each grid point, Y is the y coordinate of each grid point, T is the temperature of each grid point\n",
    "ax.plot_surface(X, Y, T, cmap=cm.hot)"
   ]
  }
 ],
 "metadata": {
  "kernelspec": {
   "display_name": "Python 3",
   "language": "python",
   "name": "python3"
  },
  "language_info": {
   "codemirror_mode": {
    "name": "ipython",
    "version": 3
   },
   "file_extension": ".py",
   "mimetype": "text/x-python",
   "name": "python",
   "nbconvert_exporter": "python",
   "pygments_lexer": "ipython3",
   "version": "3.9.7"
  }
 },
 "nbformat": 4,
 "nbformat_minor": 2
}
