{
 "cells": [
  {
   "cell_type": "markdown",
   "metadata": {},
   "source": [
    "# Jacobi's Method"
   ]
  },
  {
   "cell_type": "code",
   "execution_count": 1,
   "metadata": {},
   "outputs": [],
   "source": [
    "import numpy as np\n",
    "import numpy.linalg as npla\n",
    "\n",
    "# New additions!\n",
    "import scipy\n",
    "from scipy import sparse"
   ]
  },
  {
   "cell_type": "code",
   "execution_count": 2,
   "metadata": {},
   "outputs": [
    {
     "name": "stdout",
     "output_type": "stream",
     "text": [
      "A =\n",
      " [[ 4 -1 -1]\n",
      " [-2  6  1]\n",
      " [-1  1  7]] \n",
      "\n",
      "b = [ 3  9 -6]\n",
      "\n",
      "If Ax = b, then x =  [ 1.  2. -1.]\n"
     ]
    }
   ],
   "source": [
    "# Let's do a simple Ax = b problem with a 3x3 matrix A\n",
    "# Normally, you'd employ a MUCH larger matrix with Jacobi's Method...\n",
    "\n",
    "A = np.array([[4, -1, -1], [-2, 6, 1], [-1, 1, 7]])\n",
    "b = np.array([3, 9, -6])\n",
    "print(\"A =\\n\", A, \"\\n\\nb =\", b)\n",
    "\n",
    "# What's the ACTUAL (ideal) solution for x (not iteration, just straight-out solution)??\n",
    "x = npla.solve(A,b)\n",
    "print(\"\\nIf Ax = b, then x = \", x)"
   ]
  },
  {
   "cell_type": "markdown",
   "metadata": {},
   "source": [
    "### Using Jacobi's Method - the Matrix view:\n",
    "\n",
    "*What do you need to start off with? See this:*"
   ]
  },
  {
   "cell_type": "code",
   "execution_count": 3,
   "metadata": {},
   "outputs": [
    {
     "name": "stdout",
     "output_type": "stream",
     "text": [
      "\n",
      "m =  3 ; n =  3 \n",
      "\n",
      "d =\n",
      " [4 6 7] \n",
      "\n",
      "D =\n",
      " [[4 0 0]\n",
      " [0 6 0]\n",
      " [0 0 7]] \n",
      "\n",
      "C =\n",
      " [[ 0 -1 -1]\n",
      " [-2  0  1]\n",
      " [-1  1  0]] \n",
      "\n",
      "inital guess for x, i.e. x[0] =  [0. 0. 0.]\n"
     ]
    }
   ],
   "source": [
    "# Get dimensions of matrix A:\n",
    "m, n = A.shape\n",
    "\n",
    "# Get the diagonals as a vector d:\n",
    "d = A.diagonal()\n",
    "\n",
    "# Convert that diagonals vector d into a diagonal MATRIX D:\n",
    "D = np.diag(d)\n",
    "\n",
    "print(\"\\nm = \", m, \";\",\"n = \", n, \"\\n\")\n",
    "print(\"d =\\n\", d, \"\\n\")\n",
    "print(\"D =\\n\", D, \"\\n\")\n",
    "\n",
    "# Create matrix C, which is A WITHOUT the diagonals\n",
    "C = A - D\n",
    "print(\"C =\\n\", C, \"\\n\")\n",
    "\n",
    "# Let's make an initial guess: x = 0\n",
    "x = np.zeros(n)\n",
    "print (\"inital guess for x, i.e. x[0] = \", x)"
   ]
  },
  {
   "cell_type": "markdown",
   "metadata": {},
   "source": [
    "We KNOW (this is like \"cheating\" b/c we ran `npla.solve()`) that `x =  [1, 2, -1]`\n",
    "\n",
    "***So let's improve on the initial guess of x = [0,0,0]:***"
   ]
  },
  {
   "cell_type": "code",
   "execution_count": 4,
   "metadata": {},
   "outputs": [
    {
     "name": "stdout",
     "output_type": "stream",
     "text": [
      "x[1] =  [ 0.75        1.5        -0.85714286]\n",
      "relres: 0.2276848238437212\n"
     ]
    }
   ],
   "source": [
    "xnew = (b - C @ x) / d\n",
    "print( \"x[1] = \", xnew )\n",
    "\n",
    "relres = npla.norm( A @ xnew - b ) / npla.norm( b )\n",
    "print( \"relres:\", relres )"
   ]
  },
  {
   "cell_type": "markdown",
   "metadata": {},
   "source": [
    "***Ok - better, but not close enough (relative residual is too high). Do it again!***"
   ]
  },
  {
   "cell_type": "code",
   "execution_count": 5,
   "metadata": {},
   "outputs": [
    {
     "name": "stdout",
     "output_type": "stream",
     "text": [
      "x[2] =  [ 0.91071429  1.89285714 -0.96428571]\n",
      "relres: 0.05033194799192781\n"
     ]
    }
   ],
   "source": [
    "xnew = (b - C @ xnew) / d\n",
    "print( \"x[2] = \", xnew )\n",
    "\n",
    "relres = npla.norm( A @ xnew - b ) / npla.norm( b )\n",
    "print( \"relres:\", relres )"
   ]
  },
  {
   "cell_type": "markdown",
   "metadata": {},
   "source": [
    "***Ok - AGAIN, it's better, but not close enough (relative residual is too high). Do it again!***"
   ]
  },
  {
   "cell_type": "code",
   "execution_count": 6,
   "metadata": {},
   "outputs": [
    {
     "name": "stdout",
     "output_type": "stream",
     "text": [
      "x[3] =  [ 0.98214286  1.96428571 -0.99744898]\n",
      "relres: 0.016047404414215816\n"
     ]
    }
   ],
   "source": [
    "xnew = (b - C @ xnew) / d\n",
    "print( \"x[3] = \", xnew )\n",
    "\n",
    "relres = npla.norm( A @ xnew - b ) / npla.norm( b )\n",
    "print( \"relres:\", relres )"
   ]
  },
  {
   "cell_type": "markdown",
   "metadata": {},
   "source": [
    "### Ok - you see where this is going? Better do a loop!"
   ]
  },
  {
   "cell_type": "code",
   "execution_count": 7,
   "metadata": {},
   "outputs": [
    {
     "name": "stdout",
     "output_type": "stream",
     "text": [
      "iteration 1 x: [ 0.75        1.5        -0.85714286] , relres: 0.2276848238437212\n",
      "iteration 2 x: [ 0.91071429  1.89285714 -0.96428571] , relres: 0.05033194799192781\n",
      "iteration 3 x: [ 0.98214286  1.96428571 -0.99744898] , relres: 0.016047404414215816\n",
      "iteration 4 x: [ 0.99170918  1.99362245 -0.99744898] , relres: 0.0035829971654076096\n",
      "iteration 5 x: [ 0.99904337  1.99681122 -1.00027332] , relres: 0.0016018644153034459\n",
      "iteration 6 x: [ 0.99913448  1.99972668 -0.99968112] , relres: 0.0004028532877897414\n",
      "iteration 7 x: [ 1.00001139  1.99965835 -1.0000846 ] , relres: 0.00021399546675719867\n",
      "iteration 8 x: [ 0.99989344  2.0000179  -0.99994957] , relres: 6.959176731831768e-05\n",
      "iteration 9 x: [ 1.00001708  1.99995607 -1.00001778] , relres: 3.460133503516452e-05\n",
      "iteration 10 x: [ 0.99998457  2.00000866 -0.99999128] , relres: 1.3174531968287308e-05\n",
      "iteration 11 x: [ 1.00000434  1.99999341 -1.00000344] , relres: 6.075146130994744e-06\n",
      "iteration 12 x: [ 0.99999749  2.00000202 -0.99999844] , relres: 2.4796394112153965e-06\n",
      "iteration 13 x: [ 1.0000009   1.9999989  -1.00000065] , relres: 1.0993499332799935e-06\n",
      "iteration 14 x: [ 0.99999956  2.00000041 -0.99999972] , relres: 4.620206634338095e-07\n",
      "iteration 15 x: [ 1.00000017  1.99999981 -1.00000012] , relres: 2.0119957277470704e-07\n",
      "iteration 16 x: [ 0.99999992  2.00000008 -0.99999995] , relres: 8.5610229554731e-08\n",
      "iteration 17 x: [ 1.00000003  1.99999997 -1.00000002] , relres: 3.6988720033011837e-08\n",
      "iteration 18 x: [ 0.99999999  2.00000001 -0.99999999] , relres: 1.5822059686393463e-08\n",
      "iteration 19 x: [ 1.00000001  1.99999999 -1.        ] , relres: 6.812704419670702e-09\n",
      "iteration 20 x: [ 1.  2. -1.] , relres: 2.920778894363546e-09\n",
      "iteration 21 x: [ 1.  2. -1.] , relres: 1.255775109425219e-09\n",
      "iteration 22 x: [ 1.  2. -1.] , relres: 5.389086774456548e-10\n",
      "iteration 23 x: [ 1.  2. -1.] , relres: 2.3155314758618165e-10\n",
      "iteration 24 x: [ 1.  2. -1.] , relres: 9.94115569939606e-11\n",
      "iteration 25 x: [ 1.  2. -1.] , relres: 4.270250072557789e-11\n"
     ]
    }
   ],
   "source": [
    "#Again, start with our initial guess of [0,0,0]:\n",
    "x = np.zeros(3)\n",
    "\n",
    "for i in range( 25 ):\n",
    "    x = (b - C @ x) / d\n",
    "    relres = npla.norm( A @ x - b ) / npla.norm( b )\n",
    "    print( \"iteration\", i + 1, \"x:\", x, \", relres:\" ,relres )"
   ]
  },
  {
   "cell_type": "markdown",
   "metadata": {},
   "source": [
    "### We see from the results above that if we (arbitrarily) chose a threshold of 1e-8, that iteration number 19 would get us just below that!!"
   ]
  },
  {
   "cell_type": "markdown",
   "metadata": {},
   "source": [
    "## ***BUT!!!*** Jacobi's Method does not always converge...! :("
   ]
  },
  {
   "cell_type": "code",
   "execution_count": 8,
   "metadata": {},
   "outputs": [
    {
     "name": "stdout",
     "output_type": "stream",
     "text": [
      "A:\n",
      " [[1 2]\n",
      " [3 4]]\n",
      "\n",
      "b =  [3 7]\n",
      "\n",
      "x (ideal) =  [1. 1.]\n"
     ]
    }
   ],
   "source": [
    "# Example that does NOT converge using J. Method:\n",
    "\n",
    "A = np.array([[1,2],[3,4]])\n",
    "b = np.array([3,7])\n",
    "print(\"A:\\n\", A)\n",
    "print(\"\\nb = \", b)\n",
    "x = npla.solve(A, b)\n",
    "print(\"\\nx (ideal) = \", x)"
   ]
  },
  {
   "cell_type": "code",
   "execution_count": 9,
   "metadata": {},
   "outputs": [
    {
     "name": "stdout",
     "output_type": "stream",
     "text": [
      "iteration 1 x: [3.   1.75] , relres: 1.2679742192527634\n",
      "iteration 2 x: [-0.5 -0.5] , relres: 1.5\n",
      "iteration 3 x: [4.    2.125] , relres: 1.9019613288791453\n",
      "iteration 4 x: [-1.25 -1.25] , relres: 2.25\n",
      "iteration 5 x: [5.5    2.6875] , relres: 2.852941993318718\n",
      "iteration 6 x: [-2.375 -2.375] , relres: 3.3749999999999996\n",
      "iteration 7 x: [7.75    3.53125] , relres: 4.279412989978076\n",
      "iteration 8 x: [-4.0625 -4.0625] , relres: 5.0625\n",
      "iteration 9 x: [11.125     4.796875] , relres: 6.419119484967116\n",
      "iteration 10 x: [-6.59375 -6.59375] , relres: 7.59375\n",
      "iteration 11 x: [16.1875     6.6953125] , relres: 9.628679227450672\n",
      "iteration 12 x: [-10.390625 -10.390625] , relres: 11.390624999999998\n",
      "iteration 13 x: [23.78125     9.54296875] , relres: 14.443018841176007\n",
      "iteration 14 x: [-16.0859375 -16.0859375] , relres: 17.085937499999996\n",
      "iteration 15 x: [35.171875   13.81445312] , relres: 21.664528261764012\n",
      "iteration 16 x: [-24.62890625 -24.62890625] , relres: 25.628906249999996\n",
      "iteration 17 x: [52.2578125  20.22167969] , relres: 32.49679239264602\n",
      "iteration 18 x: [-37.44335938 -37.44335938] , relres: 38.443359375\n",
      "iteration 19 x: [77.88671875 29.83251953] , relres: 48.74518858896903\n",
      "iteration 20 x: [-56.66503906 -56.66503906] , relres: 57.6650390625\n",
      "iteration 21 x: [116.33007812  44.2487793 ] , relres: 73.11778288345354\n",
      "iteration 22 x: [-85.49755859 -85.49755859] , relres: 86.49755859374999\n",
      "iteration 23 x: [173.99511719  65.87316895] , relres: 109.67667432518031\n",
      "iteration 24 x: [-128.74633789 -128.74633789] , relres: 129.746337890625\n",
      "iteration 25 x: [260.49267578  98.30975342] , relres: 164.5150114877705\n"
     ]
    }
   ],
   "source": [
    "# Get d, D, and C:\n",
    "d = A.diagonal()\n",
    "D = np.diag(d)\n",
    "C = A - D\n",
    "\n",
    "#Start with our initial guess of [0,0]:\n",
    "x = np.zeros(2)\n",
    "\n",
    "for i in range( 25 ):\n",
    "    x = (b - C @ x) / d\n",
    "    relres = npla.norm( A @ x - b ) / npla.norm( b )\n",
    "    print( \"iteration\", i + 1, \"x:\", x, \", relres:\" ,relres )"
   ]
  },
  {
   "cell_type": "markdown",
   "metadata": {},
   "source": [
    "## We see from the results above that we NEVER CONVERGE!!"
   ]
  },
  {
   "cell_type": "markdown",
   "metadata": {},
   "source": [
    "#### We could have avoided this \"heartache\" by checking the \"Spectral Radius\" of the Matrix A:"
   ]
  },
  {
   "cell_type": "code",
   "execution_count": 10,
   "metadata": {},
   "outputs": [
    {
     "name": "stdout",
     "output_type": "stream",
     "text": [
      "[ 1.22474487 -1.22474487]\n",
      "Spectral radius >= 1. Will not converge.\n"
     ]
    }
   ],
   "source": [
    "# Check spectral radius\n",
    "m = npla.inv(D)@C\n",
    "evs = npla.eig(m)[0]\n",
    "print(evs)\n",
    "\n",
    "if max(evs) < 1:\n",
    "    print(\"Spectral radius < 1. Will converge.\")\n",
    "else:\n",
    "    print(\"Spectral radius >= 1. Will not converge.\")"
   ]
  },
  {
   "cell_type": "code",
   "execution_count": 11,
   "metadata": {},
   "outputs": [
    {
     "name": "stdout",
     "output_type": "stream",
     "text": [
      "[ 0.42946179 -0.28202928 -0.14743251]\n",
      "Spectral radius < 1. Will converge.\n"
     ]
    }
   ],
   "source": [
    "# Check it again for our earlier matrix A (that DID converge)\n",
    "# We'll call it matrix Z here, just to distinguish it from matrix A above:\n",
    "\n",
    "Z = np.array([[4, -1, -1], [-2, 6, 1], [-1, 1, 7]])\n",
    "d = Z.diagonal()\n",
    "D = np.diag(d)\n",
    "C = Z - D\n",
    "\n",
    "# Check spectral radius\n",
    "m = npla.pinv(D)@C\n",
    "evs = npla.eig(m)[0]\n",
    "print(evs)\n",
    "\n",
    "if max(evs) < 1:\n",
    "    print(\"Spectral radius < 1. Will converge.\")\n",
    "else:\n",
    "    print(\"Spectral radius >= 1. Will not converge.\")"
   ]
  },
  {
   "cell_type": "markdown",
   "metadata": {},
   "source": [
    "### Let's create a function that can do all of this for us!\n",
    "\n",
    "**Presenting function `Jsolve()`:** \\\n",
    "**It takes in our matrix `A`, vector `b`and gives us the best solution for `x` (plus the `resrel`)** \\\n",
    "\n",
    "It should also have as arguments: a threshold tolerance (default = 1e-8), maximum number of iterations (default = 1000)"
   ]
  },
  {
   "cell_type": "markdown",
   "metadata": {},
   "source": [
    "# ATTENTION:\n",
    "\n",
    "**`Jsolve()` employs SPARSE MATRICES so that it's use can be extended to very large, sparse matrices, as well as, more \"ordinary\" ones.**\n",
    "\n",
    "This means that BEFORE using it, make sure to convert an np.array() type matrix into a sparse one (how to do that is illustrated all the way below):"
   ]
  },
  {
   "cell_type": "code",
   "execution_count": 12,
   "metadata": {},
   "outputs": [],
   "source": [
    "def Jsolve(A, b, tol = 1e-8, max_iters = 1000, callback = None):\n",
    "    \"\"\"Solve a linear system Ax = b for x by the Jacobi iterative method.\n",
    "    Parameters: \n",
    "      A: the matrix.\n",
    "      b: the right-hand side vector.\n",
    "      tol = 1e-8: the relative residual at which to stop iterating.\n",
    "      max_iters = 1000: the maximum number of iterations to do. \n",
    "      callback = None: a user function to call at every iteration. \n",
    "        The callback function has arguments 'x', 'iteration', and 'residual'\n",
    "    Outputs (in order):\n",
    "      x: the computed solution\n",
    "      rel_res: list of relative residual norms at each iteration.\n",
    "        The number of iterations actually done is len(rel_res) - 1\n",
    "    \"\"\"\n",
    "    # Check the input\n",
    "    m, n = A.shape\n",
    "    assert m == n, \"matrix must be square\"\n",
    "    bn, = b.shape\n",
    "    assert bn == n, \"rhs vector must be same size as matrix\"\n",
    "\n",
    "    # Split A into diagonal D plus off-diagonal C\n",
    "    d = A.diagonal()         # diagonal elements of A as a vector\n",
    "    C = A.copy()             # copy of A ...\n",
    "    C.setdiag(np.zeros(n))   # ... without the diagonal\n",
    "    \n",
    "    # Initial guess: x = 0\n",
    "    x = np.zeros(n)\n",
    "\n",
    "    # Vector of relative residuals\n",
    "    # Relative residual is norm(residual)/norm(b)\n",
    "    # Intitial residual is b - Ax for x=0, or b\n",
    "    rel_res = [1.0]\n",
    "        \n",
    "    # Call user function if specified\n",
    "    if callback is not None:\n",
    "        callback(x = x, iteration = 0, residual = 1)\n",
    "\n",
    "    # Iterate\n",
    "    for k in range(1, max_iters+1):\n",
    "        # New x\n",
    "        x = (b - C @ x) / d\n",
    "\n",
    "        # Record relative residual\n",
    "        this_rel_res = npla.norm(b - A @ x) / npla.norm(b)\n",
    "        rel_res.append(this_rel_res)\n",
    "                \n",
    "        # Call user function if specified\n",
    "        if callback is not None:\n",
    "            callback(x = x, iteration = k, residual = this_rel_res)\n",
    "                        \n",
    "        # Stop if within tolerance    \n",
    "        if this_rel_res <= tol:\n",
    "            break\n",
    "            \n",
    "    return (x, rel_res)"
   ]
  },
  {
   "cell_type": "code",
   "execution_count": 13,
   "metadata": {},
   "outputs": [
    {
     "name": "stdout",
     "output_type": "stream",
     "text": [
      "A:\n",
      " [[ 4 -1 -1]\n",
      " [-2  6  1]\n",
      " [-1  1  7]]\n",
      "\n",
      "b:\n",
      " [ 3  9 -6]\n",
      "\n",
      "Ideal x (so we can compare against it):\n",
      " [ 1.  2. -1.]\n"
     ]
    }
   ],
   "source": [
    "A = np.array([[4, -1, -1], [-2, 6, 1], [-1, 1, 7]])\n",
    "b = np.array([3, 9, -6])\n",
    "print(\"A:\\n\", A)\n",
    "print(\"\\nb:\\n\", b)\n",
    "x = npla.solve(A, b)\n",
    "print(\"\\nIdeal x (so we can compare against it):\\n\", x)"
   ]
  },
  {
   "cell_type": "code",
   "execution_count": 14,
   "metadata": {},
   "outputs": [
    {
     "name": "stdout",
     "output_type": "stream",
     "text": [
      "x: \n",
      " [ 1.00000001  1.99999999 -1.        ]\n",
      "\n",
      "All iterated residuals: \n",
      " [1.0, 0.22768482384372116, 0.0503319479919278, 0.01604740441421596, 0.0035829971654077523, 0.001601864415303465, 0.00040285328778971074, 0.00021399546675719867, 6.959176731826758e-05, 3.4601335035126733e-05, 1.3174531968220623e-05, 6.075146130834141e-06, 2.4796394112400105e-06, 1.099349933223233e-06, 4.620206634338095e-07, 2.0119957277470704e-07, 8.561022957943247e-08, 3.698871997266093e-08, 1.5822059686393463e-08, 6.8127044622987766e-09]\n",
      "\n",
      "Last residual:  6.8127044622987766e-09\n"
     ]
    }
   ],
   "source": [
    "#Run it using Jacobi - note, Jsolve() requires A to be a sparse matrix\n",
    "A = sparse.csr_matrix(A)\n",
    "\n",
    "print(\"x: \\n\", Jsolve(A, b)[0])\n",
    "print(\"\\nAll iterated residuals: \\n\", Jsolve(A, b)[1])\n",
    "\n",
    "# To see just the last residual:\n",
    "# NOTE: [1] indicates element 1 of the function return, which is a list,\n",
    "#       [-1] indicates the LAST element in that list.\n",
    "\n",
    "print(\"\\nLast residual: \", Jsolve(A,b)[1][-1])"
   ]
  },
  {
   "cell_type": "code",
   "execution_count": 15,
   "metadata": {},
   "outputs": [
    {
     "name": "stdout",
     "output_type": "stream",
     "text": [
      "[ 0.2406015  -0.0075188   0.03759398  0.65413534]\n"
     ]
    }
   ],
   "source": [
    "A = np.array([[4, 0, 1, 0], [2, 7, 7, 2], [1, 1, 4, 4], [0, 0, 2, 6]])\n",
    "b = np.array([1, 2, 3, 4])\n",
    "print(npla.solve(A,b))"
   ]
  },
  {
   "cell_type": "code",
   "execution_count": 16,
   "metadata": {},
   "outputs": [
    {
     "name": "stdout",
     "output_type": "stream",
     "text": [
      "[ 8.34137362e-01 -7.69197180e-01 -6.49401819e-02  2.64091342e-18]\n",
      "Spectral radius < 1. Will converge.\n"
     ]
    }
   ],
   "source": [
    "d = A.diagonal()\n",
    "D = np.diag(d)\n",
    "C = A - D\n",
    "\n",
    "# Check spectral radius\n",
    "m = npla.pinv(D)@C\n",
    "evs = npla.eig(m)[0]\n",
    "print(evs)\n",
    "\n",
    "if max(evs) < 1:\n",
    "    print(\"Spectral radius < 1. Will converge.\")\n",
    "else:\n",
    "    print(\"Spectral radius >= 1. Will not converge.\")"
   ]
  },
  {
   "cell_type": "code",
   "execution_count": 17,
   "metadata": {},
   "outputs": [
    {
     "name": "stdout",
     "output_type": "stream",
     "text": [
      "x: \n",
      " [ 0.2406015  -0.00751879  0.03759399  0.65413534]\n",
      "\n",
      "All iterated residuals: \n",
      " [1.0, 1.4519108658968871, 1.2912751537070846, 0.9865560160549319, 0.8941390714131437, 0.69069042722823, 0.6183939725979902, 0.48319316304257875, 0.42806850186917, 0.3377617814670239, 0.29654865875975306, 0.23594048162245626, 0.20557155530601262, 0.16471760979850092, 0.14258428350857297, 0.11493716890519119, 0.09894310115933581, 0.08016703233839535, 0.0686868697808074, 0.05589504464393763, 0.047699085565958525, 0.03895976787655909, 0.03313387518080819, 0.027148442047978002, 0.02302190971046195, 0.018913677294891663, 0.01599931290166035, 0.013174193953853138, 0.011120864358881427, 0.009174903498598782, 0.007731101757595503, 0.006388793602497441, 0.005375266754515825, 0.004448207884024024, 0.003737714042181043, 0.0030967617118022157, 0.002599276204842514, 0.002155725668118326, 0.0018077278786830806, 0.001500540478481794, 0.001257311276884608, 0.0010444199521136288, 0.0008745352740619085, 0.0007269086347246559, 0.0006083211372077105, 0.0005059005175684057, 0.00042316173031299223, 0.00035207399141420616, 0.0002943710398015849, 0.00024501278767554595, 0.00020478432956770116, 0.0001705028498787265, 0.00014246538719972705, 0.00011864908642663112, 9.91131686650989e-05, 8.256358380278781e-05, 6.895429366753048e-05, 5.7452025382389656e-05, 4.797312745031391e-05, 3.997752635595025e-05, 3.337647759167334e-05, 2.7817698271705385e-05, 2.3221371232228084e-05, 1.9356282791663265e-05, 1.6156205941002305e-05, 1.3468489481650745e-05, 1.1240727914826979e-05, 9.37157455885454e-06, 7.820823736769848e-06, 6.520838825660139e-06, 5.44143088457707e-06, 4.537242693709496e-06, 3.7859590378248354e-06, 3.157028841223373e-06, 2.63415031102722e-06, 2.1966627438949137e-06, 1.832764937654618e-06, 1.5284342805547281e-06, 1.2751883000020826e-06, 1.0634790094851024e-06, 8.872438702875182e-07, 7.399630382753791e-07, 6.173232907808085e-07, 5.148612894511828e-07, 4.2951975154189223e-07, 3.5823638637331244e-07, 2.9885072642487124e-07, 2.492576556412654e-07, 2.0793427669604306e-07, 1.7343101612836633e-07, 1.4467662288609726e-07, 1.206714595860973e-07, 1.006632779422665e-07, 8.39618436207889e-08, 7.003967786430128e-08, 5.841966062005635e-08, 4.873236874311288e-08, 4.064768402339194e-08, 3.3907140625785095e-08, 2.828214453079474e-08, 2.359201511400168e-08, 1.967834924745455e-08, 1.6414932567482842e-08, 1.369193474892676e-08, 1.1421242180145326e-08, 9.52666371625422e-09]\n",
      "length =  106\n",
      "\n",
      "Last residual:  9.52666371625422e-09\n"
     ]
    }
   ],
   "source": [
    "#Run it using Jacobi - note, Jsolve() requires A to be a sparse matrix\n",
    "A = sparse.csr_matrix(A)\n",
    "solution = Jsolve(A, b, tol = 1e-8)\n",
    "print(\"x: \\n\",solution[0])\n",
    "print(\"\\nAll iterated residuals: \\n\", solution[1])\n",
    "print(\"length = \", len(solution[1]))\n",
    "print(\"\\nLast residual: \", solution[1][-1])"
   ]
  },
  {
   "cell_type": "code",
   "execution_count": 18,
   "metadata": {},
   "outputs": [],
   "source": [
    "# hw4\n",
    "import scipy\n",
    "from scipy import sparse\n",
    "\n",
    "def make_A_3D(k):\n",
    "    \"\"\"Create the matrix for the temperature problem on a k-by-k-by-k grid.\n",
    "    Parameters: \n",
    "      k: number of grid points in each dimension.\n",
    "    Outputs:\n",
    "      A: the sparse k**3-by-k**3 matrix representing the finite difference approximation to Poisson's equation.\n",
    "    \"\"\"\n",
    "    # First make a list with one triple (row, column, value) for each nonzero element of A\n",
    "    triples = []\n",
    "    for z in range(k): \n",
    "        for i in range(k):\n",
    "            for j in range(k):\n",
    "            # what row of the matrix is grid point (i,j,k)?\n",
    "                row = j + i*k + z*(k**2)    # 3 dimenstions\n",
    "                # the diagonal element in this row\n",
    "                triples.append((row, row, 6.0))\n",
    "                # connect to left grid neighbor\n",
    "                if j > 0:\n",
    "                    triples.append((row, row - 1, -1.0))\n",
    "                # ... right neighbor\n",
    "                if j < k - 1:\n",
    "                    triples.append((row, row + 1, -1.0))\n",
    "                # ... neighbor above\n",
    "                if i > 0:\n",
    "                    triples.append((row, row - k, -1.0))\n",
    "                # ... neighbor below\n",
    "                if i < k - 1:\n",
    "                    triples.append((row, row + k, -1.0))\n",
    "                # ... neighbor up\n",
    "                if z > 0:\n",
    "                    triples.append((row, row - k**2, -1.0))\n",
    "                # ... neighbor down\n",
    "                if z < k-1:\n",
    "                    triples.append((row, row + k**2, -1.0))\n",
    "    \n",
    "    # Finally convert the list of triples to a scipy sparse matrix\n",
    "    ndim = k*k*k\n",
    "    rownum = [t[0] for t in triples]\n",
    "    colnum = [t[1] for t in triples]\n",
    "    values = [t[2] for t in triples]\n",
    "    A = sparse.csr_matrix((values, (rownum, colnum)), shape = (ndim, ndim))\n",
    "    \n",
    "    return A "
   ]
  },
  {
   "cell_type": "code",
   "execution_count": 22,
   "metadata": {},
   "outputs": [
    {
     "name": "stdout",
     "output_type": "stream",
     "text": [
      "[[ 6. -1. -1.  0. -1.  0.  0.  0.]\n",
      " [-1.  6.  0. -1.  0. -1.  0.  0.]\n",
      " [-1.  0.  6. -1.  0.  0. -1.  0.]\n",
      " [ 0. -1. -1.  6.  0.  0.  0. -1.]\n",
      " [-1.  0.  0.  0.  6. -1. -1.  0.]\n",
      " [ 0. -1.  0.  0. -1.  6.  0. -1.]\n",
      " [ 0.  0. -1.  0. -1.  0.  6. -1.]\n",
      " [ 0.  0.  0. -1.  0. -1. -1.  6.]]\n"
     ]
    }
   ],
   "source": [
    "k = 2\n",
    "A = make_A_3D(k)\n",
    "# convert to dense matrix for plotting\n",
    "A = A.toarray()\n",
    "print(A)"
   ]
  }
 ],
 "metadata": {
  "kernelspec": {
   "display_name": "Python 3 (ipykernel)",
   "language": "python",
   "name": "python3"
  },
  "language_info": {
   "codemirror_mode": {
    "name": "ipython",
    "version": 3
   },
   "file_extension": ".py",
   "mimetype": "text/x-python",
   "name": "python",
   "nbconvert_exporter": "python",
   "pygments_lexer": "ipython3",
   "version": "3.9.7"
  }
 },
 "nbformat": 4,
 "nbformat_minor": 2
}
